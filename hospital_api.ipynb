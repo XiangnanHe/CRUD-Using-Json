{
 "cells": [
  {
   "cell_type": "code",
   "execution_count": 17,
   "metadata": {},
   "outputs": [],
   "source": [
    "import json\n",
    "import numpy\n",
    "import pandas as pd\n",
    "import requests"
   ]
  },
  {
   "cell_type": "code",
   "execution_count": 11,
   "metadata": {},
   "outputs": [],
   "source": [
    "json_data = open('MOCK_DATA.json')"
   ]
  },
  {
   "cell_type": "code",
   "execution_count": 14,
   "metadata": {},
   "outputs": [],
   "source": [
    "df = pd.read_json('MOCK_DATA.json')"
   ]
  },
  {
   "cell_type": "code",
   "execution_count": 39,
   "metadata": {},
   "outputs": [
    {
     "data": {
      "text/html": [
       "<div>\n",
       "<style scoped>\n",
       "    .dataframe tbody tr th:only-of-type {\n",
       "        vertical-align: middle;\n",
       "    }\n",
       "\n",
       "    .dataframe tbody tr th {\n",
       "        vertical-align: top;\n",
       "    }\n",
       "\n",
       "    .dataframe thead th {\n",
       "        text-align: right;\n",
       "    }\n",
       "</style>\n",
       "<table border=\"1\" class=\"dataframe\">\n",
       "  <thead>\n",
       "    <tr style=\"text-align: right;\">\n",
       "      <th></th>\n",
       "      <th>additional_information</th>\n",
       "      <th>address</th>\n",
       "      <th>diagnosis</th>\n",
       "      <th>drug_code</th>\n",
       "      <th>email</th>\n",
       "      <th>first_name</th>\n",
       "      <th>gender</th>\n",
       "      <th>id</th>\n",
       "      <th>last_name</th>\n",
       "      <th>phone_number</th>\n",
       "      <th>visit_date</th>\n",
       "    </tr>\n",
       "  </thead>\n",
       "  <tbody>\n",
       "    <tr>\n",
       "      <th>3</th>\n",
       "      <td>[{'notes': 'Fusce consequat. Nulla nisl. Nunc ...</td>\n",
       "      <td>1 American Drive</td>\n",
       "      <td>T22521D</td>\n",
       "      <td>49349-612</td>\n",
       "      <td>None</td>\n",
       "      <td>Juliana</td>\n",
       "      <td>Female</td>\n",
       "      <td>4</td>\n",
       "      <td>Belliard</td>\n",
       "      <td>846-384-4132</td>\n",
       "      <td>6/24/2017</td>\n",
       "    </tr>\n",
       "    <tr>\n",
       "      <th>4</th>\n",
       "      <td>[{'notes': 'Proin eu mi. Nulla ac enim. In tem...</td>\n",
       "      <td>31463 Michigan Way</td>\n",
       "      <td>S42156B</td>\n",
       "      <td>21695-751</td>\n",
       "      <td>None</td>\n",
       "      <td>Rozanne</td>\n",
       "      <td>Female</td>\n",
       "      <td>5</td>\n",
       "      <td>Lidster</td>\n",
       "      <td>344-285-5545</td>\n",
       "      <td>3/4/2017</td>\n",
       "    </tr>\n",
       "    <tr>\n",
       "      <th>5</th>\n",
       "      <td>[{'notes': 'Duis consequat dui nec nisi volutp...</td>\n",
       "      <td>55 Continental Court</td>\n",
       "      <td>M84573A</td>\n",
       "      <td>63629-3803</td>\n",
       "      <td>fhumbell5@uiuc.edu</td>\n",
       "      <td>Fernandina</td>\n",
       "      <td>Female</td>\n",
       "      <td>6</td>\n",
       "      <td>Humbell</td>\n",
       "      <td>850-355-2041</td>\n",
       "      <td>4/17/2017</td>\n",
       "    </tr>\n",
       "    <tr>\n",
       "      <th>6</th>\n",
       "      <td>[{'notes': 'Aenean fermentum. Donec ut mauris ...</td>\n",
       "      <td>27179 Buell Crossing</td>\n",
       "      <td>H598</td>\n",
       "      <td>49999-982</td>\n",
       "      <td>None</td>\n",
       "      <td>Dorris</td>\n",
       "      <td>Female</td>\n",
       "      <td>7</td>\n",
       "      <td>Perrycost</td>\n",
       "      <td>379-616-6433</td>\n",
       "      <td>1/9/2018</td>\n",
       "    </tr>\n",
       "    <tr>\n",
       "      <th>7</th>\n",
       "      <td>[{'notes': 'Lorem ipsum dolor sit amet, consec...</td>\n",
       "      <td>46312 Hazelcrest Avenue</td>\n",
       "      <td>V84</td>\n",
       "      <td>0135-0157</td>\n",
       "      <td>maizikowitz7@usda.gov</td>\n",
       "      <td>Margette</td>\n",
       "      <td>Female</td>\n",
       "      <td>8</td>\n",
       "      <td>Aizikowitz</td>\n",
       "      <td>738-441-3675</td>\n",
       "      <td>4/26/2017</td>\n",
       "    </tr>\n",
       "  </tbody>\n",
       "</table>\n",
       "</div>"
      ],
      "text/plain": [
       "                              additional_information                  address  \\\n",
       "3  [{'notes': 'Fusce consequat. Nulla nisl. Nunc ...         1 American Drive   \n",
       "4  [{'notes': 'Proin eu mi. Nulla ac enim. In tem...       31463 Michigan Way   \n",
       "5  [{'notes': 'Duis consequat dui nec nisi volutp...     55 Continental Court   \n",
       "6  [{'notes': 'Aenean fermentum. Donec ut mauris ...     27179 Buell Crossing   \n",
       "7  [{'notes': 'Lorem ipsum dolor sit amet, consec...  46312 Hazelcrest Avenue   \n",
       "\n",
       "  diagnosis   drug_code                  email  first_name  gender  id  \\\n",
       "3   T22521D   49349-612                   None     Juliana  Female   4   \n",
       "4   S42156B   21695-751                   None     Rozanne  Female   5   \n",
       "5   M84573A  63629-3803     fhumbell5@uiuc.edu  Fernandina  Female   6   \n",
       "6      H598   49999-982                   None      Dorris  Female   7   \n",
       "7       V84   0135-0157  maizikowitz7@usda.gov    Margette  Female   8   \n",
       "\n",
       "    last_name  phone_number visit_date  \n",
       "3    Belliard  846-384-4132  6/24/2017  \n",
       "4     Lidster  344-285-5545   3/4/2017  \n",
       "5     Humbell  850-355-2041  4/17/2017  \n",
       "6   Perrycost  379-616-6433   1/9/2018  \n",
       "7  Aizikowitz  738-441-3675  4/26/2017  "
      ]
     },
     "execution_count": 39,
     "metadata": {},
     "output_type": "execute_result"
    }
   ],
   "source": [
    "df.head()\n",
    "df = df[df.id != 3]\n",
    "df.head()"
   ]
  },
  {
   "cell_type": "code",
   "execution_count": 28,
   "metadata": {},
   "outputs": [],
   "source": [
    "url = 'http://localhost:8888/notebooks/Documents/Personal/github/takehome/'\n",
    "r = requests.post(url, data = {'first_name':'Rollo'})"
   ]
  },
  {
   "cell_type": "code",
   "execution_count": null,
   "metadata": {},
   "outputs": [],
   "source": [
    "def searchPat(self, df):\n",
    "    df[df['first_name'] == 'Rollo']\n",
    "    df[df['gender'] == 'Male']\n",
    "    df[df['last_name'] == 'Methuen']\n",
    "    \n",
    "    "
   ]
  },
  {
   "cell_type": "code",
   "execution_count": 16,
   "metadata": {},
   "outputs": [
    {
     "ename": "SyntaxError",
     "evalue": "unexpected EOF while parsing (<ipython-input-16-5784415afeb5>, line 1)",
     "output_type": "error",
     "traceback": [
      "\u001b[1;36m  File \u001b[1;32m\"<ipython-input-16-5784415afeb5>\"\u001b[1;36m, line \u001b[1;32m1\u001b[0m\n\u001b[1;33m    def createPat(self,):\u001b[0m\n\u001b[1;37m                         ^\u001b[0m\n\u001b[1;31mSyntaxError\u001b[0m\u001b[1;31m:\u001b[0m unexpected EOF while parsing\n"
     ]
    }
   ],
   "source": [
    "def createPat(self,df):\n",
    "    df.append({\"first_name\":\"Bob\", \"last_name\":\"Saget\"}, ignore_index = True)"
   ]
  },
  {
   "cell_type": "code",
   "execution_count": null,
   "metadata": {},
   "outputs": [],
   "source": [
    "def readPat(self, df):\n",
    "    "
   ]
  },
  {
   "cell_type": "code",
   "execution_count": null,
   "metadata": {},
   "outputs": [],
   "source": [
    "def updatePat(self, df):\n",
    "    "
   ]
  },
  {
   "cell_type": "code",
   "execution_count": null,
   "metadata": {},
   "outputs": [],
   "source": [
    "def deletePat(self, df):\n",
    "    "
   ]
  }
 ],
 "metadata": {
  "kernelspec": {
   "display_name": "Python 3",
   "language": "python",
   "name": "python3"
  },
  "language_info": {
   "codemirror_mode": {
    "name": "ipython",
    "version": 3
   },
   "file_extension": ".py",
   "mimetype": "text/x-python",
   "name": "python",
   "nbconvert_exporter": "python",
   "pygments_lexer": "ipython3",
   "version": "3.6.4"
  }
 },
 "nbformat": 4,
 "nbformat_minor": 2
}
